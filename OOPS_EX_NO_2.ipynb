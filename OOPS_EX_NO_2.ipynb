{
  "nbformat": 4,
  "nbformat_minor": 0,
  "metadata": {
    "colab": {
      "provenance": [],
      "authorship_tag": "ABX9TyONRNBXefddk/Z7ecMeDRSl",
      "include_colab_link": true
    },
    "kernelspec": {
      "name": "python3",
      "display_name": "Python 3"
    },
    "language_info": {
      "name": "python"
    }
  },
  "cells": [
    {
      "cell_type": "markdown",
      "metadata": {
        "id": "view-in-github",
        "colab_type": "text"
      },
      "source": [
        "<a href=\"https://colab.research.google.com/github/venkyjr17-pixel/oops-ex-no-1/blob/main/OOPS_EX_NO_2.ipynb\" target=\"_parent\"><img src=\"https://colab.research.google.com/assets/colab-badge.svg\" alt=\"Open In Colab\"/></a>"
      ]
    },
    {
      "cell_type": "code",
      "metadata": {
        "colab": {
          "base_uri": "https://localhost:8080/"
        },
        "id": "3ea21d7f",
        "outputId": "34972d73-b2ef-4161-8fdc-378d3d95424f"
      },
      "source": [
        "%%writefile InheritanceDemo.java\n",
        "// Demonstration of Single and Multilevel Inheritance\n",
        "\n",
        "// Base class (Parent Class)\n",
        "class Person {\n",
        "    String name;\n",
        "    int age;\n",
        "\n",
        "    void displayPerson() {\n",
        "        System.out.println(\"Name: \" + name + \", Age: \" + age);\n",
        "    }\n",
        "}\n",
        "\n",
        "// Single Inheritance Example\n",
        "// Student inherits from Person\n",
        "class Student extends Person {\n",
        "    String course;\n",
        "\n",
        "    void displayStudent() {\n",
        "        displayPerson();\n",
        "        System.out.println(\"Course: \" + course);\n",
        "    }\n",
        "}\n",
        "\n",
        "// Multilevel Inheritance Example\n",
        "// GraduateStudent inherits from Student\n",
        "class GraduateStudent extends Student {\n",
        "    String researchTopic;\n",
        "\n",
        "    void displayGraduateStudent() {\n",
        "        displayStudent();\n",
        "        System.out.println(\"Research Topic: \" + researchTopic);\n",
        "    }\n",
        "}\n",
        "\n",
        "// Main class\n",
        "public class InheritanceDemo {\n",
        "    public static void main(String[] args) {\n",
        "        // Single Inheritance\n",
        "        System.out.println(\"---- Single Inheritance ----\");\n",
        "        Student s1 = new Student();\n",
        "        s1.name = \"Vijay\";\n",
        "        s1.age = 20;\n",
        "        s1.course = \"Computer Science\";\n",
        "        s1.displayStudent();\n",
        "\n",
        "        // Multilevel Inheritance\n",
        "        System.out.println(\"\\n---- Multilevel Inheritance ----\");\n",
        "        GraduateStudent g1 = new GraduateStudent();\n",
        "        g1.name = \"Bob\";\n",
        "        g1.age = 25;\n",
        "        g1.course = \"Artificial Intelligence\";\n",
        "        g1.researchTopic = \"Machine Learning Algorithms\";\n",
        "        g1.displayGraduateStudent();\n",
        "    }\n",
        "}"
      ],
      "execution_count": null,
      "outputs": [
        {
          "output_type": "stream",
          "name": "stdout",
          "text": [
            "Overwriting InheritanceDemo.java\n"
          ]
        }
      ]
    },
    {
      "cell_type": "code",
      "metadata": {
        "colab": {
          "base_uri": "https://localhost:8080/"
        },
        "id": "f82b5294",
        "outputId": "27f3b141-a118-43c6-e89c-6fb9faab1fd6"
      },
      "source": [
        "!javac InheritanceDemo.java\n",
        "!java InheritanceDemo"
      ],
      "execution_count": null,
      "outputs": [
        {
          "output_type": "stream",
          "name": "stdout",
          "text": [
            "---- Single Inheritance ----\n",
            "Name: Vijay, Age: 20\n",
            "Course: Computer Science\n",
            "\n",
            "---- Multilevel Inheritance ----\n",
            "Name: Bob, Age: 25\n",
            "Course: Artificial Intelligence\n",
            "Research Topic: Machine Learning Algorithms\n"
          ]
        }
      ]
    }
  ]
}